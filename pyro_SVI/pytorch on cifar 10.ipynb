{
 "cells": [
  {
   "cell_type": "code",
   "execution_count": 8,
   "metadata": {},
   "outputs": [],
   "source": [
    "%matplotlib inline\n",
    "import torch\n",
    "import torchvision\n",
    "from torchvision import models\n",
    "import torchvision.transforms as transforms\n",
    "from torchvision.transforms import ToPILImage\n",
    "import torch.optim as optim\n",
    "\n",
    "import torch.nn as nn\n",
    "import torch.nn.functional as F\n",
    "\n",
    "import matplotlib.pyplot as plt\n",
    "\n",
    "import numpy as np\n",
    "\n",
    "import time"
   ]
  },
  {
   "cell_type": "code",
   "execution_count": 12,
   "metadata": {},
   "outputs": [],
   "source": [
    "def test_accuracy(net, dataloader):\n",
    "  ########TESTING PHASE###########\n",
    "  \n",
    "    #check accuracy on whole test set\n",
    "    correct = 0\n",
    "    total = 0\n",
    "    net.eval() #important for deactivating dropout and correctly use batchnorm accumulated statistics\n",
    "    with torch.no_grad():\n",
    "        for data in dataloader:\n",
    "            images, labels = data\n",
    "            images = images.cuda()\n",
    "            labels = labels.cuda()\n",
    "            outputs = net(images)\n",
    "            _, predicted = torch.max(outputs.data, 1)\n",
    "            total += labels.size(0)\n",
    "            correct += (predicted == labels).sum().item()\n",
    "    accuracy = 100 * correct / total\n",
    "    print('Accuracy of the network on the test set: %d %%' % (\n",
    "    accuracy))\n",
    "    return accuracy"
   ]
  },
  {
   "cell_type": "code",
   "execution_count": 9,
   "metadata": {},
   "outputs": [
    {
     "name": "stdout",
     "output_type": "stream",
     "text": [
      "Files already downloaded and verified\n",
      "Files already downloaded and verified\n"
     ]
    }
   ],
   "source": [
    "n_classes = 10 \n",
    "n_epochs=20\n",
    "#transform are heavily used to do simple and complex transformation and data augmentation\n",
    "transform_train = transforms.Compose(\n",
    "    [\n",
    "        #transforms.RandomHorizontalFlip(),\n",
    "     transforms.Resize((32,32)),\n",
    "     transforms.ToTensor(),\n",
    "     transforms.Normalize((0.5, 0.5, 0.5), (0.5, 0.5, 0.5)),\n",
    "    ])\n",
    "\n",
    "transform_test = transforms.Compose(\n",
    "    [\n",
    "     transforms.Resize((32,32)),\n",
    "     transforms.ToTensor(),\n",
    "     transforms.Normalize((0.5, 0.5, 0.5), (0.5, 0.5, 0.5)),\n",
    "     ])\n",
    "\n",
    "trainset = torchvision.datasets.CIFAR10(root='./data', train=True,\n",
    "                                        download=True, transform=transform_train)\n",
    "trainloader = torch.utils.data.DataLoader(trainset, batch_size=256,\n",
    "                                          shuffle=True, num_workers=4,drop_last=True)\n",
    "\n",
    "testset = torchvision.datasets.CIFAR10(root='./data', train=False,\n",
    "                                       download=True, transform=transform_test)\n",
    "testloader = torch.utils.data.DataLoader(testset, batch_size=256,\n",
    "                                         shuffle=False, num_workers=4,drop_last=True)\n",
    "\n"
   ]
  },
  {
   "cell_type": "code",
   "execution_count": 10,
   "metadata": {},
   "outputs": [],
   "source": [
    "def fit_network(net,n_epochs,trainloader,testloader, learning_rate=0.0001):\n",
    "    n_loss_print = len(trainloader)\n",
    "    \n",
    "    \n",
    "    net = net.cuda()\n",
    "\n",
    "    criterion = nn.CrossEntropyLoss().cuda() #it already does softmax computation for use!\n",
    "    optimizer = optim.Adam(net.parameters(), lr=learning_rate) #better convergency w.r.t simple SGD :)\n",
    "    \n",
    "    accuracies=[]\n",
    "    losses=[]\n",
    "    t0=time.time()\n",
    "    for epoch in range(n_epochs):  # loop over the dataset multiple times\n",
    "        time_epoch=time.time()\n",
    "        net.train() #important for activating dropout and correctly train batchnorm\n",
    "        running_loss = 0.0\n",
    "        for i, data in enumerate(trainloader, 0):\n",
    "            # get the inputs and cast them into cuda wrapper\n",
    "            inputs, labels = data\n",
    "            inputs = inputs.cuda()\n",
    "            labels = labels.cuda()\n",
    "            # zero the parameter gradients\n",
    "            optimizer.zero_grad()\n",
    "\n",
    "            # forward + backward + optimize\n",
    "            outputs = net(inputs)\n",
    "            loss = criterion(outputs, labels)\n",
    "            loss.backward()\n",
    "            optimizer.step()\n",
    "\n",
    "            # print statistics\n",
    "            running_loss += loss.item()\n",
    "            if i % n_loss_print == (n_loss_print -1):    \n",
    "                print('[%d, %5d] loss: %.3f' %\n",
    "                      (epoch + 1, i + 1, running_loss / n_loss_print))\n",
    "                losses.append(running_loss / n_loss_print)\n",
    "                running_loss = 0.0\n",
    "                         \n",
    "        accuracies.append(test_accuracy(net,testloader))\n",
    "        print(\"Epoch done in \",round(time.time()-time_epoch,3),\" seconds.\\n\")\n",
    "    print(\"Finished Training, total time=\",round(time.time()-t0,3))\n",
    "            \n",
    "    \n",
    "    plt.title(\"Accuracy vs epoch\")\n",
    "    plt.plot(range(1,n_epochs+1),accuracies)\n",
    "    for a,b in zip (range(1,n_epochs+1),accuracies):\n",
    "        plt.text(a,b,str(round(b,2)))\n",
    "    plt.show()\n",
    "    plt.title(\"loss vs epoch\")\n",
    "    \n",
    "    plt.plot(range(1,n_epochs+1),losses)\n",
    "    for a,b in zip (range(1,n_epochs+1),losses):\n",
    "        plt.text(a,b,str(round(b,2)))\n",
    "    plt.show()\n",
    "        \n",
    "    "
   ]
  },
  {
   "cell_type": "code",
   "execution_count": 13,
   "metadata": {},
   "outputs": [
    {
     "name": "stdout",
     "output_type": "stream",
     "text": [
      "[1,   195] loss: 1.109\n",
      "Accuracy of the network on the test set: 73 %\n",
      "Epoch done in  24.675  seconds.\n",
      "\n",
      "[2,   195] loss: 0.579\n",
      "Accuracy of the network on the test set: 77 %\n",
      "Epoch done in  26.389  seconds.\n",
      "\n",
      "[3,   195] loss: 0.363\n",
      "Accuracy of the network on the test set: 78 %\n",
      "Epoch done in  26.125  seconds.\n",
      "\n",
      "[4,   195] loss: 0.207\n",
      "Accuracy of the network on the test set: 78 %\n",
      "Epoch done in  24.825  seconds.\n",
      "\n",
      "[5,   195] loss: 0.110\n",
      "Accuracy of the network on the test set: 78 %\n",
      "Epoch done in  24.859  seconds.\n",
      "\n",
      "[6,   195] loss: 0.059\n",
      "Accuracy of the network on the test set: 79 %\n",
      "Epoch done in  24.842  seconds.\n",
      "\n",
      "[7,   195] loss: 0.039\n",
      "Accuracy of the network on the test set: 78 %\n",
      "Epoch done in  24.819  seconds.\n",
      "\n",
      "[8,   195] loss: 0.034\n",
      "Accuracy of the network on the test set: 78 %\n",
      "Epoch done in  25.622  seconds.\n",
      "\n",
      "[9,   195] loss: 0.038\n",
      "Accuracy of the network on the test set: 78 %\n",
      "Epoch done in  25.331  seconds.\n",
      "\n",
      "[10,   195] loss: 0.046\n",
      "Accuracy of the network on the test set: 79 %\n",
      "Epoch done in  25.483  seconds.\n",
      "\n",
      "Finished Training, total time= 252.972\n"
     ]
    },
    {
     "data": {
      "image/png": "[encoded data removed]",
      "text/plain": [
       "<Figure size 432x288 with 1 Axes>"
      ]
     },
     "metadata": {
      "needs_background": "light"
     },
     "output_type": "display_data"
    },
    {
     "data": {
      "image/png": "[encoded data removed]",
      "text/plain": [
       "<Figure size 432x288 with 1 Axes>"
      ]
     },
     "metadata": {
      "needs_background": "light"
     },
     "output_type": "display_data"
    }
   ],
   "source": [
    "net = models.resnet18(pretrained=True)\n",
    "net.fc = nn.Linear(512, n_classes)\n",
    "# net\n",
    "fit_network(net,10,trainloader,testloader)"
   ]
  }
 ],
 "metadata": {
  "kernelspec": {
   "display_name": "Python 3",
   "language": "python",
   "name": "python3"
  },
  "language_info": {
   "codemirror_mode": {
    "name": "ipython",
    "version": 3
   },
   "file_extension": ".py",
   "mimetype": "text/x-python",
   "name": "python",
   "nbconvert_exporter": "python",
   "pygments_lexer": "ipython3",
   "version": "3.7.3"
  }
 },
 "nbformat": 4,
 "nbformat_minor": 2
}
