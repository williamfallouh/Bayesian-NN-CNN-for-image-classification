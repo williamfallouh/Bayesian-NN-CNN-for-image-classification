{
 "cells": [
  {
   "cell_type": "markdown",
   "metadata": {},
   "source": [
    "bayesian CNN: https://medium.com/neuralspace/bayesian-convolutional-neural-networks-with-bayes-by-backprop-c84dcaaf086e\n",
    "\n",
    "https://arxiv.org/pdf/1703.01961.pdf tests with LeNet"
   ]
  },
  {
   "cell_type": "code",
   "execution_count": 1,
   "metadata": {},
   "outputs": [],
   "source": [
    "%matplotlib inline\n",
    "import torch\n",
    "import torchvision\n",
    "from torchvision import models\n",
    "import torchvision.transforms as transforms\n",
    "from torchvision.transforms import ToPILImage\n",
    "import torch.optim as optim\n",
    "from collections import OrderedDict\n",
    "\n",
    "\n",
    "\n",
    "import torch.nn as nn\n",
    "import torch.nn.functional as F\n",
    "\n",
    "\n",
    "import pyro\n",
    "from pyro.distributions import Normal, Categorical\n",
    "from pyro.infer import SVI, Trace_ELBO\n",
    "from pyro.optim import Adam\n",
    "from PIL import Image \n",
    "import matplotlib.pyplot as plt\n",
    "from matplotlib import colors\n",
    "\n",
    "\n",
    "import numpy as np\n",
    "\n",
    "import time"
   ]
  },
  {
   "cell_type": "code",
   "execution_count": 2,
   "metadata": {},
   "outputs": [
    {
     "name": "stdout",
     "output_type": "stream",
     "text": [
      "Sun Jun  9 17:46:34 2019       \r\n",
      "+-----------------------------------------------------------------------------+\r\n",
      "| NVIDIA-SMI 415.27       Driver Version: 415.27       CUDA Version: 10.0     |\r\n",
      "|-------------------------------+----------------------+----------------------+\r\n",
      "| GPU  Name        Persistence-M| Bus-Id        Disp.A | Volatile Uncorr. ECC |\r\n",
      "| Fan  Temp  Perf  Pwr:Usage/Cap|         Memory-Usage | GPU-Util  Compute M. |\r\n",
      "|===============================+======================+======================|\r\n",
      "|   0  GeForce GTX 1060    Off  | 00000000:01:00.0 Off |                  N/A |\r\n",
      "| N/A   61C    P3    19W /  N/A |    852MiB /  6078MiB |      0%      Default |\r\n",
      "+-------------------------------+----------------------+----------------------+\r\n",
      "                                                                               \r\n",
      "+-----------------------------------------------------------------------------+\r\n",
      "| Processes:                                                       GPU Memory |\r\n",
      "|  GPU       PID   Type   Process name                             Usage      |\r\n",
      "|=============================================================================|\r\n",
      "|    0      1485      G   /usr/lib/xorg/Xorg                           381MiB |\r\n",
      "|    0      1660      G   /usr/bin/gnome-shell                         195MiB |\r\n",
      "|    0      2029      G   ...equest-channel-token=640886002437580471   273MiB |\r\n",
      "+-----------------------------------------------------------------------------+\r\n"
     ]
    }
   ],
   "source": [
    "torch.cuda.empty_cache()\n",
    "\n",
    "!nvidia-smi"
   ]
  },
  {
   "cell_type": "code",
   "execution_count": 3,
   "metadata": {},
   "outputs": [],
   "source": [
    "# x = np.zeros((3,32,32))\n",
    "# x = np.rollaxis(x,0,3)\n",
    "# np.shape(x)"
   ]
  },
  {
   "cell_type": "code",
   "execution_count": 4,
   "metadata": {},
   "outputs": [],
   "source": [
    "# def test_accuracy(net, dataloader):\n",
    "#   ########TESTING PHASE###########\n",
    "  \n",
    "#     #check accuracy on whole test set\n",
    "#     correct = 0\n",
    "#     total = 0\n",
    "#     net.eval() #important for deactivating dropout and correctly use batchnorm accumulated statistics\n",
    "#     with torch.no_grad():\n",
    "#         for data in dataloader:\n",
    "#             images, labels = data\n",
    "#             images = images.cuda()\n",
    "#             labels = labels.cuda()\n",
    "#             outputs = net(images)\n",
    "#             _, predicted = torch.max(outputs.data, 1)\n",
    "#             total += labels.size(0)\n",
    "#             correct += (predicted == labels).sum().item()\n",
    "#     accuracy = 100 * correct / total\n",
    "#     print('Accuracy of the network on the test set: %d %%' % (\n",
    "#     accuracy))\n",
    "#     return accuracy\n",
    "\n",
    "def predict(x):\n",
    "    num_samples = 10\n",
    "\n",
    "    sampled_models = [guide(None, None) for _ in range(num_samples)]\n",
    "    yhats = [model(x).data for model in sampled_models]\n",
    "    mean = torch.mean(torch.stack(yhats), 0)\n",
    "    \n",
    "    _, predicted = torch.max(mean, 1)\n",
    "    return(predicted)\n",
    "\n",
    "classes=['airplane', 'automobile', 'bird', 'cat', 'deer', 'dog', 'frog', 'horse', 'ship', 'truck']\n",
    "\n",
    "def imshow(img):\n",
    "    img = img / 2 + 0.5     # unnormalize\n",
    "    npimg = img.numpy()\n",
    "    #plt.imshow(npimg,  cmap='gray')\n",
    "    #fig.show(figsize=(1,1))\n",
    "    \n",
    "    fig, ax = plt.subplots(figsize=(1, 1))\n",
    "    npimg =  np.rollaxis(npimg,0,3)\n",
    "    ax.imshow(npimg,  interpolation='nearest')\n",
    "    plt.show()\n",
    "    \n",
    "def test_batch(images, labels, plot=True):\n",
    "    \n",
    "    \n",
    "#     images = images.cuda()\n",
    "#     labels = labels.cuda()\n",
    "    y = give_uncertainities(images)\n",
    "\n",
    "#     print(y)\n",
    "    predicted_for_images = 0\n",
    "    correct_predictions=0\n",
    "\n",
    "    for i in range(len(labels)):\n",
    "    \n",
    "        if(plot):\n",
    "            print(\"actual class: \",classes[labels[i].item()])\n",
    "            fig, axs = plt.subplots(1, 10, sharey=True,figsize=(20,2))\n",
    "    \n",
    "        all_digits_prob = []\n",
    "    \n",
    "        highted_something = False\n",
    "\n",
    "    \n",
    "        for j, _class  in enumerate(classes):\n",
    "        \n",
    "            highlight=False\n",
    "        \n",
    "            histo = []\n",
    "            histo_exp = []\n",
    "        \n",
    "            for z in range(y.shape[0]):\n",
    "                histo.append(y[z][i][j])\n",
    "                histo_exp.append(np.exp(y[z][i][j]))\n",
    "            \n",
    "            prob = np.percentile(histo_exp, 50) #sampling median probability\n",
    "        \n",
    "            if(prob>0.2): #select if network thinks this sample is 20% chance of this being a label\n",
    "                highlight = True #possibly an answer\n",
    "        \n",
    "            all_digits_prob.append(prob)\n",
    "            \n",
    "            if(plot):\n",
    "            \n",
    "                N, bins, patches = axs[j].hist(histo, bins=8, color = \"lightgray\", lw=0,  weights=np.ones(len(histo)) / len(histo), density=False)\n",
    "                axs[j].set_title(str(j)+\" (\"+str(round(prob,2))+\")\") \n",
    "        \n",
    "            if(highlight):\n",
    "            \n",
    "                highted_something = True\n",
    "                \n",
    "                if(plot):\n",
    "\n",
    "                    # We'll color code by height, but you could use any scalar\n",
    "                    fracs = N / N.max()\n",
    "\n",
    "                    # we need to normalize the data to 0..1 for the full range of the colormap\n",
    "                    norm = colors.Normalize(fracs.min(), fracs.max())\n",
    "\n",
    "                    # Now, we'll loop through our objects and set the color of each accordingly\n",
    "                    for thisfrac, thispatch in zip(fracs, patches):\n",
    "                        color = plt.cm.viridis(norm(thisfrac))\n",
    "                        thispatch.set_facecolor(color)\n",
    "\n",
    "    \n",
    "        if(plot):\n",
    "            plt.show()\n",
    "    \n",
    "        predicted = np.argmax(all_digits_prob)\n",
    "    \n",
    "        if(highted_something):\n",
    "            predicted_for_images+=1\n",
    "            if(labels[i].item()==predicted):\n",
    "                if(plot):\n",
    "                    print(\"Correct\")\n",
    "                correct_predictions +=1.0\n",
    "            else:\n",
    "                if(plot):\n",
    "                    print(\"Incorrect :()\")\n",
    "        else:\n",
    "            if(plot):\n",
    "                print(\"Undecided.\")\n",
    "        \n",
    "        if(plot):\n",
    "            imshow(images[i].squeeze())\n",
    "        \n",
    "    \n",
    "    if(plot):\n",
    "        print(\"Summary\")\n",
    "        print(\"Total images: \",len(labels))\n",
    "        print(\"Predicted for: \",predicted_for_images)\n",
    "        if predicted_for_images!=0:\n",
    "            print(\"Accuracy when predicted: \",correct_predictions/predicted_for_images)\n",
    "        \n",
    "    return len(labels), correct_predictions, predicted_for_images\n",
    "\n",
    "def give_uncertainities(x):\n",
    "    sampled_models = [guide(None, None) for _ in range(10)] # numsamples\n",
    "#     yhats = [F.log_softmax(model(x.view(-1,28*28)).data, 1).detach().numpy() for model in sampled_models]\n",
    "    yhats = [F.log_softmax(model(x.cuda()).data, 1).detach().cpu().numpy() for model in sampled_models]\n",
    "    return np.asarray(yhats)\n",
    "    #mean = torch.mean(torch.stack(yhats), 0)\n",
    "    #return np.argmax(mean, axis=1)"
   ]
  },
  {
   "cell_type": "code",
   "execution_count": 5,
   "metadata": {},
   "outputs": [
    {
     "name": "stdout",
     "output_type": "stream",
     "text": [
      "Files already downloaded and verified\n",
      "Files already downloaded and verified\n"
     ]
    }
   ],
   "source": [
    "n_classes = 10\n",
    "\n",
    "\n",
    "transform_train = transforms.Compose(\n",
    "    [\n",
    "#              transforms.Grayscale(1),\n",
    "\n",
    "     transforms.Resize((40,40)), #not a problem as CIFAR is 32x32 anyway.\n",
    "     transforms.RandomResizedCrop(32,scale=(32/40,32/40)),   \n",
    "             transforms.RandomHorizontalFlip(p=0.5),\n",
    "     transforms.Resize((32,32)),\n",
    "     transforms.ToTensor(),\n",
    "     transforms.Normalize((0.5, 0.5, 0.5), (0.5, 0.5, 0.5)),\n",
    "#      transforms.Normalize((0.5,), (0.5,)),\n",
    "     ])\n",
    "\n",
    "transform_test = transforms.Compose(\n",
    "    [\n",
    "#              transforms.Grayscale(1),\n",
    "\n",
    "     transforms.Resize((40,40)),\n",
    "     transforms.RandomResizedCrop(32,scale=(32/40,32/40)),   \n",
    "     transforms.RandomHorizontalFlip(p=0.5),\n",
    "     transforms.Resize((32,32)),\n",
    "     transforms.ToTensor(),\n",
    "#      transforms.Normalize((0.5,), (0.5,)),\n",
    "     transforms.Normalize((0.5, 0.5, 0.5), (0.5, 0.5, 0.5)),\n",
    "\n",
    "     ])\n",
    "\n",
    "trainset = torchvision.datasets.CIFAR10(root='./data', train=True,\n",
    "                                        download=True, transform=transform_train)\n",
    "\n",
    "\n",
    "trainloader = torch.utils.data.DataLoader(trainset, batch_size=256,\n",
    "                                          shuffle=True, num_workers=4,drop_last=True)\n",
    "\n",
    "testset = torchvision.datasets.CIFAR10(root='./data', train=False,\n",
    "                                       download=True, transform=transform_test)\n",
    "\n",
    "\n",
    "\n",
    "testloader = torch.utils.data.DataLoader(testset, batch_size=256,\n",
    "                                         shuffle=False, num_workers=4,drop_last=True)\n",
    "\n"
   ]
  },
  {
   "cell_type": "code",
   "execution_count": 12,
   "metadata": {},
   "outputs": [
    {
     "name": "stdout",
     "output_type": "stream",
     "text": [
      "Sun Jun  9 17:49:42 2019       \r\n",
      "+-----------------------------------------------------------------------------+\r\n",
      "| NVIDIA-SMI 415.27       Driver Version: 415.27       CUDA Version: 10.0     |\r\n",
      "|-------------------------------+----------------------+----------------------+\r\n",
      "| GPU  Name        Persistence-M| Bus-Id        Disp.A | Volatile Uncorr. ECC |\r\n",
      "| Fan  Temp  Perf  Pwr:Usage/Cap|         Memory-Usage | GPU-Util  Compute M. |\r\n",
      "|===============================+======================+======================|\r\n",
      "|   0  GeForce GTX 1060    Off  | 00000000:01:00.0 Off |                  N/A |\r\n",
      "| N/A   61C    P2    27W /  N/A |   1377MiB /  6078MiB |      0%      Default |\r\n",
      "+-------------------------------+----------------------+----------------------+\r\n",
      "                                                                               \r\n",
      "+-----------------------------------------------------------------------------+\r\n",
      "| Processes:                                                       GPU Memory |\r\n",
      "|  GPU       PID   Type   Process name                             Usage      |\r\n",
      "|=============================================================================|\r\n",
      "|    0      1485      G   /usr/lib/xorg/Xorg                           381MiB |\r\n",
      "|    0      1660      G   /usr/bin/gnome-shell                         195MiB |\r\n",
      "|    0      2029      G   ...equest-channel-token=640886002437580471   310MiB |\r\n",
      "|    0     15072      C   ...anaconda3/envs/bioinformatic/bin/python   485MiB |\r\n",
      "+-----------------------------------------------------------------------------+\r\n"
     ]
    }
   ],
   "source": [
    "!nvidia-smi"
   ]
  },
  {
   "cell_type": "code",
   "execution_count": 9,
   "metadata": {},
   "outputs": [],
   "source": [
    "# function to define an old style fully connected network (multilayer perceptrons)\n",
    "class old_nn(nn.Module):\n",
    "    def __init__(self):\n",
    "        super(old_nn, self).__init__()\n",
    "        self.fc1 = nn.Linear(32*32*3, 4096)\n",
    "        self.fc2 = nn.Linear(4096, 4096)\n",
    "        self.fc3 = nn.Linear(4096, n_classes) #last FC for classification \n",
    "\n",
    "    def forward(self, x): #activation functions?\n",
    "        x = x.view(x.shape[0], -1)\n",
    "        x = F.sigmoid(self.fc1(x))\n",
    "        x = F.sigmoid(self.fc2(x))\n",
    "        x = self.fc3(x)\n",
    "        return x\n",
    "    \n",
    "class CNN(nn.Module):\n",
    "    def __init__(self):\n",
    "        super(CNN, self).__init__()\n",
    "        #conv2d first parameter is the number of kernels at input (you get it from the output value of the previous layer)\n",
    "        #conv2d second parameter is the number of kernels you wanna have in your convolution, so it will be the n. of kernels at output.\n",
    "        #conv2d third, fourth and fifth parameters are, as you can read, kernel_size, stride and zero padding :)\n",
    "        self.conv1 = nn.Conv2d(3, 32, kernel_size=5, stride=2, padding=0)\n",
    "        self.conv2 = nn.Conv2d(32, 32, kernel_size=3, stride=1, padding=0)\n",
    "        self.conv3 = nn.Conv2d(32, 32, kernel_size=3, stride=1, padding=0)\n",
    "        self.pool = nn.MaxPool2d(kernel_size=2, stride=2, padding=0)\n",
    "        self.conv_final = nn.Conv2d(32, 64, kernel_size=3, stride=1, padding=0)\n",
    "        self.fc1 = nn.Linear(64 * 4 * 4, 4096)\n",
    "        self.fc2 = nn.Linear(4096, n_classes) #last FC for classification \n",
    "\n",
    "    def forward(self, x):\n",
    "        x = F.relu(self.conv1(x))\n",
    "        x = F.relu(self.conv2(x))\n",
    "        x = F.relu(self.conv3(x))\n",
    "        x = F.relu(self.pool(self.conv_final(x)))\n",
    "        x = x.view(x.shape[0], -1)\n",
    "        x = F.relu(self.fc1(x))\n",
    "        #hint: dropout goes here!\n",
    "        x = self.fc2(x)\n",
    "        return x\n",
    "\n",
    "    #function to define the convolutional network\n",
    "class CNN_v2(nn.Module):\n",
    "    def __init__(self):\n",
    "        super(CNN_v2, self).__init__()\n",
    "        self.conv1 = nn.Conv2d(3, 128, kernel_size=5, stride=2, padding=0)\n",
    "        self.conv2 = nn.Conv2d(128, 128, kernel_size=3, stride=1, padding=0)\n",
    "        self.conv3 = nn.Conv2d(128, 128, kernel_size=3, stride=1, padding=0)\n",
    "        self.pool = nn.MaxPool2d(kernel_size=2, stride=2, padding=0)\n",
    "        self.conv_final = nn.Conv2d(128, 256, kernel_size=3, stride=1, padding=0)\n",
    "        self.fc1 = nn.Linear(256 * 4 * 4, 4096)\n",
    "        self.fc2 = nn.Linear(4096, n_classes) #last FC for classification \n",
    "\n",
    "    def forward(self, x):\n",
    "        x = F.relu(self.conv1(x))\n",
    "        x = F.relu(self.conv2(x))\n",
    "        x = F.relu(self.conv3(x))\n",
    "        x = F.relu(self.pool(self.conv_final(x)))\n",
    "        x = x.view(x.shape[0], -1)\n",
    "        x = F.relu(self.fc1(x))\n",
    "        #hint: dropout goes here!\n",
    "        x = self.fc2(x)\n",
    "        return x\n",
    "\n",
    "#function to define the convolutional network\n",
    "class CNN_v3(nn.Module):\n",
    "    def __init__(self):\n",
    "        super(CNN_v3, self).__init__()\n",
    "        self.conv1 = nn.Conv2d(3, 256, kernel_size=5, stride=2, padding=0)\n",
    "        self.conv2 = nn.Conv2d(256, 256, kernel_size=3, stride=1, padding=0)\n",
    "        self.conv3 = nn.Conv2d(256, 256, kernel_size=3, stride=1, padding=0)\n",
    "        self.pool = nn.MaxPool2d(kernel_size=2, stride=2, padding=0)\n",
    "        self.conv_final = nn.Conv2d(256, 512, kernel_size=3, stride=1, padding=0)\n",
    "        self.fc1 = nn.Linear(512 * 4 * 4, 4096)\n",
    "        self.fc2 = nn.Linear(4096, n_classes) #last FC for classification \n",
    "\n",
    "    def forward(self, x):\n",
    "        x = F.relu(self.conv1(x))\n",
    "        x = F.relu(self.conv2(x))\n",
    "        x = F.relu(self.conv3(x))\n",
    "        x = F.relu(self.pool(self.conv_final(x)))\n",
    "        x = x.view(x.shape[0], -1)\n",
    "        x = F.relu(self.fc1(x))\n",
    "        #hint: dropout goes here!\n",
    "        x = self.fc2(x)\n",
    "        return x\n",
    "\n",
    "#function to define the convolutional network\n",
    "class CNN_v4(nn.Module):\n",
    "    def __init__(self):\n",
    "        super(CNN_v4, self).__init__()\n",
    "        #conv2d first parameter is the number of kernels at input (you get it from the output value of the previous layer)\n",
    "        #conv2d second parameter is the number of kernels you wanna have in your convolution, so it will be the n. of kernels at output.\n",
    "        #conv2d third, fourth and fifth parameters are, as you can read, kernel_size, stride and zero padding :)\n",
    "        self.conv1 = nn.Conv2d(3, 512, kernel_size=5, stride=2, padding=0)\n",
    "        self.conv2 = nn.Conv2d(512, 512, kernel_size=3, stride=1, padding=0)\n",
    "        self.conv3 = nn.Conv2d(512, 512, kernel_size=3, stride=1, padding=0)\n",
    "        self.pool = nn.MaxPool2d(kernel_size=2, stride=2, padding=0)\n",
    "        self.conv_final = nn.Conv2d(512, 1024, kernel_size=3, stride=1, padding=0)\n",
    "        self.fc1 = nn.Linear(1024 * 4 * 4, 4096)\n",
    "        self.fc2 = nn.Linear(4096, n_classes) #last FC for classification \n",
    "\n",
    "    def forward(self, x):\n",
    "        x = F.relu(self.conv1(x))\n",
    "        x = F.relu(self.conv2(x))\n",
    "        x = F.relu(self.conv3(x))\n",
    "        x = F.relu(self.pool(self.conv_final(x)))\n",
    "        x = x.view(x.shape[0], -1)\n",
    "        x = F.relu(self.fc1(x))\n",
    "        #hint: dropout goes here!\n",
    "        x = self.fc2(x)\n",
    "        return x\n",
    "    \n",
    "#function to define the convolutional network\n",
    "class CNN_v5(nn.Module):\n",
    "    def __init__(self, question = \"c\"):\n",
    "        super(CNN_v5, self).__init__()\n",
    "        self.question=question\n",
    "        #conv2d first parameter is the number of kernels at input (you get it from the output value of the previous layer)\n",
    "        #conv2d second parameter is the number of kernels you wanna have in your convolution, so it will be the n. of kernels at output.\n",
    "        #conv2d third, fourth and fifth parameters are, as you can read, kernel_size, stride and zero padding :)\n",
    "        self.conv1 = nn.Conv2d(3, 128, kernel_size=5, stride=2, padding=0)\n",
    "        self.conv1_bn = nn.BatchNorm2d(128)\n",
    "        self.conv2 = nn.Conv2d(128, 128, kernel_size=3, stride=1, padding=0)\n",
    "        self.conv2_bn = nn.BatchNorm2d(128)\n",
    "        self.conv3 = nn.Conv2d(128, 128, kernel_size=3, stride=1, padding=0)\n",
    "        self.conv3_bn = nn.BatchNorm2d(128)\n",
    "        self.pool = nn.MaxPool2d(kernel_size=2, stride=2, padding=0)\n",
    "        self.conv_final = nn.Conv2d(128, 256, kernel_size=3, stride=1, padding=0)\n",
    "        if question!=\"b\":\n",
    "            self.fc1 = nn.Linear(256 * 4 * 4, 4096)\n",
    "            self.fc2 = nn.Linear(4096, n_classes) #last FC for classification \n",
    "        else:\n",
    "            self.fc1 = nn.Linear(256 * 4 * 4, 8192)\n",
    "            self.fc2 = nn.Linear(8192, n_classes) #last FC for classification \n",
    "        self.dropout_layer=nn.Dropout(0.5)\n",
    "\n",
    "            \n",
    "    def forward(self, x):\n",
    "        x = F.relu(self.conv1_bn(self.conv1(x)))\n",
    "        x = F.relu(self.conv2_bn(self.conv2(x)))\n",
    "        x = F.relu(self.conv3_bn(self.conv3(x)))\n",
    "        x = F.relu(self.pool(self.conv_final(x)))\n",
    "        x = x.view(x.shape[0], -1)\n",
    "        x = F.relu(self.fc1(x))\n",
    "        if self.question==\"c\":\n",
    "           # x = F.dropout(x,p=0.5)  # checked: this dropout is kept on prediction on test set! got to use nn.dropout instead.\n",
    "            x=self.dropout_layer(x)\n",
    "        x = self.fc2(x)\n",
    "        return x\n",
    "\n"
   ]
  },
  {
   "cell_type": "code",
   "execution_count": 20,
   "metadata": {},
   "outputs": [],
   "source": [
    "def Prediction_when_network_can_refuse(testloader):\n",
    "    correct = 0\n",
    "    total = 0\n",
    "    total_predicted_for = 0\n",
    "    for j, data in enumerate(testloader):\n",
    "        images, labels = data\n",
    "\n",
    "        total_minibatch, correct_minibatch, predictions_minibatch = test_batch(images, labels, plot=False)\n",
    "        total += total_minibatch\n",
    "        correct += correct_minibatch\n",
    "        total_predicted_for += predictions_minibatch\n",
    "\n",
    "    print(\"Prediction when network can refuse:  Total images: \", total, \" Skipped: \", total-total_predicted_for)\n",
    "#     print(\"Skipped: \", total-total_predicted_for)\n",
    "    if total_predicted_for !=0:\n",
    "        print(\"Accuracy when made predictions: %d %%\" % (100 * correct / total_predicted_for))\n",
    "    else: \n",
    "        print(\"Accuracy when made predictions: %d %%\" % 0.0)\n",
    "\n",
    "def Prediction_when_network_is_forced_to_predict(testloader):\n",
    "    print('Prediction when network is forced to predict')\n",
    "    correct = 0\n",
    "    total = 0\n",
    "    for j, data in enumerate(testloader):\n",
    "        images, labels = data\n",
    "        images = images.cuda()\n",
    "        labels = labels.cuda()\n",
    "        predicted = predict(images)\n",
    "        total += labels.size(0)\n",
    "        correct += (predicted == labels).sum().item()\n",
    "    print(\"accuracy: %d %%\" % (100 * correct / total))\n",
    "\n"
   ]
  },
  {
   "cell_type": "code",
   "execution_count": 18,
   "metadata": {},
   "outputs": [],
   "source": [
    "\n",
    "# net = old_nn()\n",
    "# net.cuda()\n",
    "# net = CNN()\n",
    "\n",
    "# net = CNN_v2()\n",
    "# net = CNN_v3()\n",
    "\n",
    "net = CNN_v5()\n",
    "\n",
    "# # net.fc = nn.Linear(512, n_classes)\n",
    "net= net.cuda() \n",
    "\n",
    "\n",
    "layer_names = list( [x for x in net.state_dict().keys() if \"weight\" in x or \"bias\" in x])\n",
    "layers = list([net.state_dict()[key] for key in layer_names]) \n",
    "# layer_names = list(net.state_dict().keys())\n",
    "# layers = list(net.state_dict().values())\n",
    "\n",
    "def model(x_data, y_data):\n",
    "    global layers\n",
    "    global layer_names\n",
    "    priors = {}\n",
    "    for index, name in enumerate(layer_names):\n",
    "        layer = layers[index]\n",
    "        priors[name] = Normal(loc=torch.zeros_like(layer), scale=torch.ones_like(layer))\n",
    "\n",
    "    # lift module parameters to random variables sampled from the priors\n",
    "    lifted_module = pyro.random_module(\"module\", net, priors)\n",
    "    # sample a regressor (which also samples w and b)\n",
    "    lifted_reg_model = lifted_module()\n",
    "    \n",
    "    lhat = log_softmax(lifted_reg_model(x_data))\n",
    "    \n",
    "    pyro.sample(\"obs\", Categorical(logits=lhat), obs=y_data)\n",
    "    \n",
    "softplus = torch.nn.Softplus()\n",
    "\n",
    "def normal_distribution_layer(layer, name):\n",
    "       # First layer weight distribution priors\n",
    "    mu = torch.randn_like(layer)\n",
    "    sigma = torch.randn_like(layer)\n",
    "    mu_param = pyro.param(name+\"_mu\", mu)\n",
    "    sigma_param = softplus(pyro.param(name+\"_sigma\", sigma))\n",
    "    prior = Normal(loc=mu_param, scale=sigma_param)\n",
    "    return prior\n",
    "\n",
    "log_softmax = nn.LogSoftmax(dim=1)\n",
    "\n",
    "\n",
    "def guide(x_data, y_data):\n",
    "    priors = {}\n",
    "    global layers\n",
    "    global layer_names\n",
    "    for index, name in enumerate(layer_names):\n",
    "        layer = layers[index]\n",
    "\n",
    "        priors[name] = normal_distribution_layer(layer, name)\n",
    "\n",
    "        lifted_module = pyro.random_module(\"module\", net, priors)\n",
    "\n",
    "    \n",
    "    return lifted_module().cuda()\n",
    "\n",
    "optim = Adam({\"lr\": 0.0001})\n",
    "\n",
    "svi = SVI(model, guide, optim, loss=Trace_ELBO())\n",
    "# svi.optim = optim"
   ]
  },
  {
   "cell_type": "code",
   "execution_count": 23,
   "metadata": {
    "scrolled": false
   },
   "outputs": [
    {
     "name": "stdout",
     "output_type": "stream",
     "text": [
      "Epoch  0  Loss  99245.6690665747 done in  26.946764707565308\n",
      "Epoch  1  Loss  94533.27341895946 done in  27.756917715072632\n",
      "Epoch  2  Loss  93003.15031552952 done in  27.22239661216736\n",
      "Epoch  3  Loss  90728.31691194816 done in  26.908854246139526\n",
      "Epoch  4  Loss  87790.1145728349 done in  26.4778413772583\n",
      "Epoch  5  Loss  87277.3080481191 done in  28.671170711517334\n",
      "Epoch  6  Loss  86957.83877493214 done in  28.200217962265015\n",
      "Epoch  7  Loss  84136.1121832504 done in  27.740725994110107\n",
      "Epoch  8  Loss  82365.56301319892 done in  26.568724870681763\n",
      "Epoch  9  Loss  80390.2373234861 done in  26.344013452529907\n",
      "Epoch  10  Loss  79574.1242321025 done in  26.947530508041382\n",
      "Epoch  11  Loss  79167.26706798049 done in  26.46192240715027\n",
      "Epoch  12  Loss  77317.55355509624 done in  27.03538489341736\n",
      "Epoch  13  Loss  76077.7127333504 done in  27.33658218383789\n",
      "Epoch  14  Loss  74529.10075489769 done in  26.487334728240967\n",
      "Epoch  15  Loss  74028.08268301158 done in  26.141849994659424\n",
      "Epoch  16  Loss  73237.07489822795 done in  26.623908042907715\n",
      "Epoch  17  Loss  71912.6176818725 done in  26.166592359542847\n",
      "Epoch  18  Loss  71745.54730521738 done in  26.46605134010315\n",
      "Epoch  19  Loss  70276.62911109737 done in  26.850708484649658\n",
      "Epoch  20  Loss  69369.68787779812 done in  26.38278293609619\n",
      "Epoch  21  Loss  67895.61666113409 done in  27.1684992313385\n",
      "Epoch  22  Loss  68517.83555426593 done in  26.639371156692505\n",
      "Epoch  23  Loss  67774.4468619289 done in  26.195847272872925\n",
      "Epoch  24  Loss  66805.59366777845 done in  28.05764865875244\n",
      "Epoch  25  Loss  66851.72824114768 done in  26.983688592910767\n",
      "Epoch  26  Loss  66645.07589280733 done in  26.45158100128174\n",
      "Epoch  27  Loss  65530.67272199893 done in  26.238158464431763\n",
      "Epoch  28  Loss  65427.68624389346 done in  26.729383945465088\n",
      "Epoch  29  Loss  64055.040693105584 done in  26.315013885498047\n",
      "Epoch  30  Loss  64496.9426797028 done in  27.02334499359131\n",
      "Epoch  31  Loss  63747.45339754297 done in  26.84992527961731\n",
      "Epoch  32  Loss  63175.16624482436 done in  27.171523094177246\n",
      "Epoch  33  Loss  63334.20326400682 done in  27.52629828453064\n",
      "Epoch  34  Loss  63130.30454710274 done in  26.370031118392944\n",
      "Epoch  35  Loss  62357.911098267425 done in  26.538742780685425\n",
      "Epoch  36  Loss  62064.14211042783 done in  26.806273937225342\n",
      "Epoch  37  Loss  61686.29649916724 done in  26.22816491127014\n",
      "Epoch  38  Loss  61314.26347804011 done in  26.574450731277466\n",
      "Epoch  39  Loss  61372.14119811357 done in  27.05682611465454\n",
      "Epoch  40  Loss  61006.95560172084 done in  27.119736194610596\n",
      "Epoch  41  Loss  60678.6220857859 done in  27.77235460281372\n",
      "Epoch  42  Loss  60616.44314002988 done in  27.6287784576416\n",
      "Epoch  43  Loss  60073.345907461204 done in  31.402103424072266\n",
      "Epoch  44  Loss  59261.08840834653 done in  30.50956439971924\n",
      "Epoch  45  Loss  59229.41452663639 done in  27.309017419815063\n",
      "Epoch  46  Loss  59222.80772778592 done in  26.463385820388794\n",
      "Epoch  47  Loss  58617.219216044185 done in  26.601650953292847\n",
      "Epoch  48  Loss  58399.67096320603 done in  27.40950632095337\n",
      "Epoch  49  Loss  58169.96725384048 done in  27.507731914520264\n"
     ]
    }
   ],
   "source": [
    "num_iterations = 50\n",
    "loss = 0\n",
    "\n",
    "for j in range(num_iterations):\n",
    "    t0 = time.time()\n",
    "    loss = 0\n",
    "    for batch_id, data in enumerate(trainloader):\n",
    "        \n",
    "        x = data[0]\n",
    "\n",
    "        x = x.cuda()\n",
    "\n",
    "        y = data[1].cuda()\n",
    "        \n",
    "#         print(type(x.cuda()))\n",
    "        # calculate the loss and take a gradient step\n",
    "#         loss += svi.step(data[0].view(-1,32*32*256*3), data[1])\n",
    "        loss += svi.step(x, y)\n",
    "    normalizer_train = len(trainloader.dataset)\n",
    "    total_epoch_loss_train = loss / normalizer_train\n",
    "    \n",
    "    \n",
    "    print(\"Epoch \", j, \" Loss \", total_epoch_loss_train, \"done in \", time.time()-t0)\n",
    "#     Prediction_when_network_can_refuse(testloader)\n",
    "#     Prediction_when_network_is_forced_to_predict(testloader)\n",
    "    "
   ]
  },
  {
   "cell_type": "code",
   "execution_count": 24,
   "metadata": {},
   "outputs": [
    {
     "name": "stdout",
     "output_type": "stream",
     "text": [
      "Prediction when network can refuse:  Total images:  9984  Skipped:  9776\n",
      "Accuracy when made predictions: 7 %\n",
      "Prediction when network is forced to predict\n",
      "accuracy: 10 %\n"
     ]
    }
   ],
   "source": [
    "Prediction_when_network_can_refuse(testloader)\n",
    "Prediction_when_network_is_forced_to_predict(testloader)\n"
   ]
  },
  {
   "cell_type": "code",
   "execution_count": 22,
   "metadata": {
    "scrolled": false
   },
   "outputs": [
    {
     "name": "stdout",
     "output_type": "stream",
     "text": [
      "actual class:  cat\n"
     ]
    },
    {
     "data": {
      "image/png": "[encoded data removed]",
      "text/plain": [
       "<Figure size 1440x144 with 10 Axes>"
      ]
     },
     "metadata": {
      "needs_background": "light"
     },
     "output_type": "display_data"
    },
    {
     "name": "stdout",
     "output_type": "stream",
     "text": [
      "Undecided.\n"
     ]
    },
    {
     "data": {
      "image/png": "[encoded data removed]",
      "text/plain": [
       "<Figure size 72x72 with 1 Axes>"
      ]
     },
     "metadata": {
      "needs_background": "light"
     },
     "output_type": "display_data"
    },
    {
     "name": "stdout",
     "output_type": "stream",
     "text": [
      "actual class:  ship\n"
     ]
    },
    {
     "data": {
      "image/png": "[encoded data removed]",
      "text/plain": [
       "<Figure size 1440x144 with 10 Axes>"
      ]
     },
     "metadata": {
      "needs_background": "light"
     },
     "output_type": "display_data"
    },
    {
     "name": "stdout",
     "output_type": "stream",
     "text": [
      "Undecided.\n"
     ]
    },
    {
     "data": {
      "image/png": "[encoded data removed]",
      "text/plain": [
       "<Figure size 72x72 with 1 Axes>"
      ]
     },
     "metadata": {
      "needs_background": "light"
     },
     "output_type": "display_data"
    },
    {
     "name": "stdout",
     "output_type": "stream",
     "text": [
      "actual class:  ship\n"
     ]
    },
    {
     "data": {
      "image/png": "[encoded data removed]",
      "text/plain": [
       "<Figure size 1440x144 with 10 Axes>"
      ]
     },
     "metadata": {
      "needs_background": "light"
     },
     "output_type": "display_data"
    },
    {
     "name": "stdout",
     "output_type": "stream",
     "text": [
      "Undecided.\n"
     ]
    },
    {
     "data": {
      "image/png": "[encoded data removed]",
      "text/plain": [
       "<Figure size 72x72 with 1 Axes>"
      ]
     },
     "metadata": {
      "needs_background": "light"
     },
     "output_type": "display_data"
    },
    {
     "name": "stdout",
     "output_type": "stream",
     "text": [
      "actual class:  airplane\n"
     ]
    },
    {
     "data": {
      "image/png": "[encoded data removed]",
      "text/plain": [
       "<Figure size 1440x144 with 10 Axes>"
      ]
     },
     "metadata": {
      "needs_background": "light"
     },
     "output_type": "display_data"
    },
    {
     "name": "stdout",
     "output_type": "stream",
     "text": [
      "Undecided.\n"
     ]
    },
    {
     "data": {
      "image/png": "[encoded data removed]",
      "text/plain": [
       "<Figure size 72x72 with 1 Axes>"
      ]
     },
     "metadata": {
      "needs_background": "light"
     },
     "output_type": "display_data"
    },
    {
     "name": "stdout",
     "output_type": "stream",
     "text": [
      "actual class:  frog\n"
     ]
    },
    {
     "data": {
      "image/png": "[encoded data removed]",
      "text/plain": [
       "<Figure size 1440x144 with 10 Axes>"
      ]
     },
     "metadata": {
      "needs_background": "light"
     },
     "output_type": "display_data"
    },
    {
     "name": "stdout",
     "output_type": "stream",
     "text": [
      "Undecided.\n"
     ]
    },
    {
     "data": {
      "image/png": "[encoded data removed]",
      "text/plain": [
       "<Figure size 72x72 with 1 Axes>"
      ]
     },
     "metadata": {
      "needs_background": "light"
     },
     "output_type": "display_data"
    },
    {
     "name": "stdout",
     "output_type": "stream",
     "text": [
      "actual class:  frog\n"
     ]
    },
    {
     "data": {
      "image/png": "[encoded data removed]",
      "text/plain": [
       "<Figure size 1440x144 with 10 Axes>"
      ]
     },
     "metadata": {
      "needs_background": "light"
     },
     "output_type": "display_data"
    },
    {
     "name": "stdout",
     "output_type": "stream",
     "text": [
      "Undecided.\n"
     ]
    },
    {
     "data": {
      "image/png": "[encoded data removed]",
      "text/plain": [
       "<Figure size 72x72 with 1 Axes>"
      ]
     },
     "metadata": {
      "needs_background": "light"
     },
     "output_type": "display_data"
    },
    {
     "name": "stdout",
     "output_type": "stream",
     "text": [
      "actual class:  automobile\n"
     ]
    },
    {
     "data": {
      "image/png": "[encoded data removed]",
      "text/plain": [
       "<Figure size 1440x144 with 10 Axes>"
      ]
     },
     "metadata": {
      "needs_background": "light"
     },
     "output_type": "display_data"
    },
    {
     "name": "stdout",
     "output_type": "stream",
     "text": [
      "Undecided.\n"
     ]
    },
    {
     "data": {
      "image/png": "[encoded data removed]",
      "text/plain": [
       "<Figure size 72x72 with 1 Axes>"
      ]
     },
     "metadata": {
      "needs_background": "light"
     },
     "output_type": "display_data"
    },
    {
     "name": "stdout",
     "output_type": "stream",
     "text": [
      "actual class:  frog\n"
     ]
    },
    {
     "data": {
      "image/png": "[encoded data removed]",
      "text/plain": [
       "<Figure size 1440x144 with 10 Axes>"
      ]
     },
     "metadata": {
      "needs_background": "light"
     },
     "output_type": "display_data"
    },
    {
     "name": "stdout",
     "output_type": "stream",
     "text": [
      "Undecided.\n"
     ]
    },
    {
     "data": {
      "image/png": "[encoded data removed]",
      "text/plain": [
       "<Figure size 72x72 with 1 Axes>"
      ]
     },
     "metadata": {
      "needs_background": "light"
     },
     "output_type": "display_data"
    },
    {
     "name": "stdout",
     "output_type": "stream",
     "text": [
      "actual class:  cat\n"
     ]
    },
    {
     "data": {
      "image/png": "[encoded data removed]",
      "text/plain": [
       "<Figure size 1440x144 with 10 Axes>"
      ]
     },
     "metadata": {
      "needs_background": "light"
     },
     "output_type": "display_data"
    },
    {
     "name": "stdout",
     "output_type": "stream",
     "text": [
      "Undecided.\n"
     ]
    },
    {
     "data": {
      "image/png": "[encoded data removed]",
      "text/plain": [
       "<Figure size 72x72 with 1 Axes>"
      ]
     },
     "metadata": {
      "needs_background": "light"
     },
     "output_type": "display_data"
    },
    {
     "name": "stdout",
     "output_type": "stream",
     "text": [
      "actual class:  automobile\n"
     ]
    },
    {
     "data": {
      "image/png": "[encoded data removed]",
      "text/plain": [
       "<Figure size 1440x144 with 10 Axes>"
      ]
     },
     "metadata": {
      "needs_background": "light"
     },
     "output_type": "display_data"
    },
    {
     "name": "stdout",
     "output_type": "stream",
     "text": [
      "Undecided.\n"
     ]
    },
    {
     "data": {
      "image/png": "[encoded data removed]",
      "text/plain": [
       "<Figure size 72x72 with 1 Axes>"
      ]
     },
     "metadata": {
      "needs_background": "light"
     },
     "output_type": "display_data"
    },
    {
     "name": "stdout",
     "output_type": "stream",
     "text": [
      "Summary\n",
      "Total images:  10\n",
      "Predicted for:  0\n"
     ]
    },
    {
     "data": {
      "text/plain": [
       "(10, 0, 0)"
      ]
     },
     "execution_count": 22,
     "metadata": {},
     "output_type": "execute_result"
    }
   ],
   "source": [
    "# preparing for evaluation\n",
    "\n",
    "dataiter = iter(testloader)\n",
    "images, labels = dataiter.next()\n",
    "\n",
    "test_batch(images[:10], labels[:10])\n",
    "\n",
    "\n",
    "# generate random data\n",
    "\n",
    "# images_random = torch.rand(10,28,28)\n",
    "# labels_random = torch.randint(0,10, (10,))\n",
    "\n",
    "# test_batch(images_random, labels_random)"
   ]
  }
 ],
 "metadata": {
  "kernelspec": {
   "display_name": "Python 3",
   "language": "python",
   "name": "python3"
  },
  "language_info": {
   "codemirror_mode": {
    "name": "ipython",
    "version": 3
   },
   "file_extension": ".py",
   "mimetype": "text/x-python",
   "name": "python",
   "nbconvert_exporter": "python",
   "pygments_lexer": "ipython3",
   "version": "3.7.3"
  }
 },
 "nbformat": 4,
 "nbformat_minor": 2
}
